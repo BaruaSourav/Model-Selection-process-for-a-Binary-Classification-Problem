{
 "cells": [
  {
   "cell_type": "code",
   "execution_count": 3,
   "metadata": {},
   "outputs": [],
   "source": [
    "import pandas as pd \n",
    "import csv\n",
    "import sys\n",
    "import numpy as np\n",
    "import decimal \n",
    "import scipy.stats as stats\n",
    "import sklearn.datasets as datasets\n",
    "from sklearn import svm\n",
    "import seaborn as sns\n",
    "import matplotlib.pyplot as plt\n",
    "import sklearn_evaluation.plot as plot\n",
    "from sklearn.model_selection import cross_val_score \n",
    "from sklearn.ensemble import RandomForestClassifier\n",
    "from sklearn.svm import SVC\n",
    "pd.set_option('display.max_colwidth', -1)"
   ]
  },
  {
   "cell_type": "markdown",
   "metadata": {},
   "source": [
    "## Reading the tsv files of test and training dataset"
   ]
  },
  {
   "cell_type": "code",
   "execution_count": 4,
   "metadata": {},
   "outputs": [
    {
     "data": {
      "text/plain": [
       "Index(['overlaps_sQTLs', 'overlaps_sQTLs_4_same_gene', 'gene_has_sQTLs', 'AQR',\n",
       "       'SF3B4', 'PRPF8', 'RBM22', 'BUD13', 'EFTUD2', 'XRN2', 'H3K36me3', 'AAA',\n",
       "       'AAC', 'AAG', 'AAT', 'ACA', 'ACC', 'ACG', 'ACT', 'AGA', 'AGC', 'AGG',\n",
       "       'AGT', 'ATA', 'ATC', 'ATG', 'ATT', 'CAA', 'CAC', 'CAG', 'CAT', 'CCA',\n",
       "       'CCC', 'CCG', 'CCT', 'CGA', 'CGC', 'CGG', 'CGT', 'CTA', 'CTC', 'CTG',\n",
       "       'CTT', 'GAA', 'GAC', 'GAG', 'GAT', 'GCA', 'GCC', 'GCG', 'GCT', 'GGA',\n",
       "       'GGC', 'GGG', 'GGT', 'GTA', 'GTC', 'GTG', 'GTT', 'TAA', 'TAC', 'TAG',\n",
       "       'TAT', 'TCA', 'TCC', 'TCG', 'TCT', 'TGA', 'TGC', 'TGG', 'TGT', 'TTA',\n",
       "       'TTC', 'TTG', 'TTT', 'group'],\n",
       "      dtype='object')"
      ]
     },
     "execution_count": 4,
     "metadata": {},
     "output_type": "execute_result"
    }
   ],
   "source": [
    "test_dataset = pd.read_csv(\"A3_test_dataset.tsv\",sep='\\t')\n",
    "train_dataset = pd.read_csv(\"A3_training_dataset.tsv\",sep='\\t')\n",
    "h = .02\n",
    "train_dataset.columns\n",
    "\n"
   ]
  },
  {
   "cell_type": "code",
   "execution_count": 5,
   "metadata": {},
   "outputs": [],
   "source": [
    "#tempwith2features = train_dataset[['TCT', 'TGC','CGT','group']]\n",
    "#s = sns.pairplot(tempwith2features, hue=\"group\",palette=\"husl\")\n"
   ]
  },
  {
   "cell_type": "code",
   "execution_count": 6,
   "metadata": {},
   "outputs": [
    {
     "data": {
      "text/html": [
       "<div>\n",
       "<style scoped>\n",
       "    .dataframe tbody tr th:only-of-type {\n",
       "        vertical-align: middle;\n",
       "    }\n",
       "\n",
       "    .dataframe tbody tr th {\n",
       "        vertical-align: top;\n",
       "    }\n",
       "\n",
       "    .dataframe thead th {\n",
       "        text-align: right;\n",
       "    }\n",
       "</style>\n",
       "<table border=\"1\" class=\"dataframe\">\n",
       "  <thead>\n",
       "    <tr style=\"text-align: right;\">\n",
       "      <th></th>\n",
       "      <th>overlaps_sQTLs</th>\n",
       "      <th>overlaps_sQTLs_4_same_gene</th>\n",
       "      <th>gene_has_sQTLs</th>\n",
       "      <th>AQR</th>\n",
       "      <th>SF3B4</th>\n",
       "      <th>PRPF8</th>\n",
       "      <th>RBM22</th>\n",
       "      <th>BUD13</th>\n",
       "      <th>EFTUD2</th>\n",
       "      <th>XRN2</th>\n",
       "      <th>...</th>\n",
       "      <th>TCT</th>\n",
       "      <th>TGA</th>\n",
       "      <th>TGC</th>\n",
       "      <th>TGG</th>\n",
       "      <th>TGT</th>\n",
       "      <th>TTA</th>\n",
       "      <th>TTC</th>\n",
       "      <th>TTG</th>\n",
       "      <th>TTT</th>\n",
       "      <th>group</th>\n",
       "    </tr>\n",
       "  </thead>\n",
       "  <tbody>\n",
       "    <tr>\n",
       "      <td>0</td>\n",
       "      <td>0</td>\n",
       "      <td>0</td>\n",
       "      <td>1</td>\n",
       "      <td>0</td>\n",
       "      <td>0</td>\n",
       "      <td>1</td>\n",
       "      <td>1</td>\n",
       "      <td>0</td>\n",
       "      <td>0</td>\n",
       "      <td>0</td>\n",
       "      <td>...</td>\n",
       "      <td>0.012987</td>\n",
       "      <td>0.012987</td>\n",
       "      <td>0.038961</td>\n",
       "      <td>0.012987</td>\n",
       "      <td>0.051948</td>\n",
       "      <td>0.012987</td>\n",
       "      <td>0.051948</td>\n",
       "      <td>0.025974</td>\n",
       "      <td>0.077922</td>\n",
       "      <td>0</td>\n",
       "    </tr>\n",
       "    <tr>\n",
       "      <td>1</td>\n",
       "      <td>1</td>\n",
       "      <td>1</td>\n",
       "      <td>1</td>\n",
       "      <td>0</td>\n",
       "      <td>0</td>\n",
       "      <td>0</td>\n",
       "      <td>1</td>\n",
       "      <td>1</td>\n",
       "      <td>0</td>\n",
       "      <td>0</td>\n",
       "      <td>...</td>\n",
       "      <td>0.031237</td>\n",
       "      <td>0.021658</td>\n",
       "      <td>0.014786</td>\n",
       "      <td>0.028322</td>\n",
       "      <td>0.027072</td>\n",
       "      <td>0.018117</td>\n",
       "      <td>0.026239</td>\n",
       "      <td>0.025614</td>\n",
       "      <td>0.059975</td>\n",
       "      <td>1</td>\n",
       "    </tr>\n",
       "    <tr>\n",
       "      <td>2</td>\n",
       "      <td>0</td>\n",
       "      <td>0</td>\n",
       "      <td>0</td>\n",
       "      <td>1</td>\n",
       "      <td>0</td>\n",
       "      <td>1</td>\n",
       "      <td>0</td>\n",
       "      <td>1</td>\n",
       "      <td>1</td>\n",
       "      <td>0</td>\n",
       "      <td>...</td>\n",
       "      <td>0.016766</td>\n",
       "      <td>0.029142</td>\n",
       "      <td>0.009581</td>\n",
       "      <td>0.017565</td>\n",
       "      <td>0.015968</td>\n",
       "      <td>0.018762</td>\n",
       "      <td>0.014770</td>\n",
       "      <td>0.025150</td>\n",
       "      <td>0.033134</td>\n",
       "      <td>0</td>\n",
       "    </tr>\n",
       "    <tr>\n",
       "      <td>3</td>\n",
       "      <td>0</td>\n",
       "      <td>0</td>\n",
       "      <td>0</td>\n",
       "      <td>0</td>\n",
       "      <td>0</td>\n",
       "      <td>1</td>\n",
       "      <td>0</td>\n",
       "      <td>0</td>\n",
       "      <td>0</td>\n",
       "      <td>0</td>\n",
       "      <td>...</td>\n",
       "      <td>0.023077</td>\n",
       "      <td>0.017231</td>\n",
       "      <td>0.016000</td>\n",
       "      <td>0.022154</td>\n",
       "      <td>0.022462</td>\n",
       "      <td>0.024000</td>\n",
       "      <td>0.018462</td>\n",
       "      <td>0.020000</td>\n",
       "      <td>0.048308</td>\n",
       "      <td>1</td>\n",
       "    </tr>\n",
       "    <tr>\n",
       "      <td>4</td>\n",
       "      <td>0</td>\n",
       "      <td>0</td>\n",
       "      <td>0</td>\n",
       "      <td>1</td>\n",
       "      <td>0</td>\n",
       "      <td>1</td>\n",
       "      <td>0</td>\n",
       "      <td>0</td>\n",
       "      <td>0</td>\n",
       "      <td>0</td>\n",
       "      <td>...</td>\n",
       "      <td>0.023786</td>\n",
       "      <td>0.022816</td>\n",
       "      <td>0.014563</td>\n",
       "      <td>0.020874</td>\n",
       "      <td>0.020874</td>\n",
       "      <td>0.026214</td>\n",
       "      <td>0.022330</td>\n",
       "      <td>0.027670</td>\n",
       "      <td>0.055340</td>\n",
       "      <td>0</td>\n",
       "    </tr>\n",
       "    <tr>\n",
       "      <td>...</td>\n",
       "      <td>...</td>\n",
       "      <td>...</td>\n",
       "      <td>...</td>\n",
       "      <td>...</td>\n",
       "      <td>...</td>\n",
       "      <td>...</td>\n",
       "      <td>...</td>\n",
       "      <td>...</td>\n",
       "      <td>...</td>\n",
       "      <td>...</td>\n",
       "      <td>...</td>\n",
       "      <td>...</td>\n",
       "      <td>...</td>\n",
       "      <td>...</td>\n",
       "      <td>...</td>\n",
       "      <td>...</td>\n",
       "      <td>...</td>\n",
       "      <td>...</td>\n",
       "      <td>...</td>\n",
       "      <td>...</td>\n",
       "      <td>...</td>\n",
       "    </tr>\n",
       "    <tr>\n",
       "      <td>21773</td>\n",
       "      <td>0</td>\n",
       "      <td>0</td>\n",
       "      <td>0</td>\n",
       "      <td>0</td>\n",
       "      <td>1</td>\n",
       "      <td>0</td>\n",
       "      <td>0</td>\n",
       "      <td>0</td>\n",
       "      <td>1</td>\n",
       "      <td>0</td>\n",
       "      <td>...</td>\n",
       "      <td>0.028027</td>\n",
       "      <td>0.014574</td>\n",
       "      <td>0.028027</td>\n",
       "      <td>0.031390</td>\n",
       "      <td>0.020179</td>\n",
       "      <td>0.010090</td>\n",
       "      <td>0.025785</td>\n",
       "      <td>0.017937</td>\n",
       "      <td>0.038117</td>\n",
       "      <td>1</td>\n",
       "    </tr>\n",
       "    <tr>\n",
       "      <td>21774</td>\n",
       "      <td>0</td>\n",
       "      <td>0</td>\n",
       "      <td>0</td>\n",
       "      <td>0</td>\n",
       "      <td>0</td>\n",
       "      <td>1</td>\n",
       "      <td>0</td>\n",
       "      <td>0</td>\n",
       "      <td>0</td>\n",
       "      <td>0</td>\n",
       "      <td>...</td>\n",
       "      <td>0.009346</td>\n",
       "      <td>0.046729</td>\n",
       "      <td>0.018692</td>\n",
       "      <td>0.009346</td>\n",
       "      <td>0.037383</td>\n",
       "      <td>0.018692</td>\n",
       "      <td>0.009346</td>\n",
       "      <td>0.028037</td>\n",
       "      <td>0.037383</td>\n",
       "      <td>1</td>\n",
       "    </tr>\n",
       "    <tr>\n",
       "      <td>21775</td>\n",
       "      <td>0</td>\n",
       "      <td>0</td>\n",
       "      <td>0</td>\n",
       "      <td>0</td>\n",
       "      <td>0</td>\n",
       "      <td>0</td>\n",
       "      <td>0</td>\n",
       "      <td>0</td>\n",
       "      <td>0</td>\n",
       "      <td>0</td>\n",
       "      <td>...</td>\n",
       "      <td>0.023055</td>\n",
       "      <td>0.020775</td>\n",
       "      <td>0.020015</td>\n",
       "      <td>0.021535</td>\n",
       "      <td>0.019762</td>\n",
       "      <td>0.015455</td>\n",
       "      <td>0.021282</td>\n",
       "      <td>0.022802</td>\n",
       "      <td>0.028883</td>\n",
       "      <td>1</td>\n",
       "    </tr>\n",
       "    <tr>\n",
       "      <td>21776</td>\n",
       "      <td>0</td>\n",
       "      <td>0</td>\n",
       "      <td>0</td>\n",
       "      <td>0</td>\n",
       "      <td>0</td>\n",
       "      <td>0</td>\n",
       "      <td>0</td>\n",
       "      <td>0</td>\n",
       "      <td>0</td>\n",
       "      <td>0</td>\n",
       "      <td>...</td>\n",
       "      <td>0.018155</td>\n",
       "      <td>0.017187</td>\n",
       "      <td>0.019608</td>\n",
       "      <td>0.027354</td>\n",
       "      <td>0.018640</td>\n",
       "      <td>0.013314</td>\n",
       "      <td>0.013798</td>\n",
       "      <td>0.015493</td>\n",
       "      <td>0.019608</td>\n",
       "      <td>1</td>\n",
       "    </tr>\n",
       "    <tr>\n",
       "      <td>21777</td>\n",
       "      <td>0</td>\n",
       "      <td>0</td>\n",
       "      <td>0</td>\n",
       "      <td>0</td>\n",
       "      <td>0</td>\n",
       "      <td>1</td>\n",
       "      <td>1</td>\n",
       "      <td>1</td>\n",
       "      <td>1</td>\n",
       "      <td>0</td>\n",
       "      <td>...</td>\n",
       "      <td>0.032949</td>\n",
       "      <td>0.018946</td>\n",
       "      <td>0.023064</td>\n",
       "      <td>0.028007</td>\n",
       "      <td>0.030478</td>\n",
       "      <td>0.013180</td>\n",
       "      <td>0.021417</td>\n",
       "      <td>0.020593</td>\n",
       "      <td>0.017298</td>\n",
       "      <td>0</td>\n",
       "    </tr>\n",
       "  </tbody>\n",
       "</table>\n",
       "<p>21778 rows × 76 columns</p>\n",
       "</div>"
      ],
      "text/plain": [
       "       overlaps_sQTLs  overlaps_sQTLs_4_same_gene  gene_has_sQTLs  AQR  SF3B4  \\\n",
       "0      0               0                           1               0    0       \n",
       "1      1               1                           1               0    0       \n",
       "2      0               0                           0               1    0       \n",
       "3      0               0                           0               0    0       \n",
       "4      0               0                           0               1    0       \n",
       "...   ..              ..                          ..              ..   ..       \n",
       "21773  0               0                           0               0    1       \n",
       "21774  0               0                           0               0    0       \n",
       "21775  0               0                           0               0    0       \n",
       "21776  0               0                           0               0    0       \n",
       "21777  0               0                           0               0    0       \n",
       "\n",
       "       PRPF8  RBM22  BUD13  EFTUD2  XRN2  ...       TCT       TGA       TGC  \\\n",
       "0      1      1      0      0       0     ...  0.012987  0.012987  0.038961   \n",
       "1      0      1      1      0       0     ...  0.031237  0.021658  0.014786   \n",
       "2      1      0      1      1       0     ...  0.016766  0.029142  0.009581   \n",
       "3      1      0      0      0       0     ...  0.023077  0.017231  0.016000   \n",
       "4      1      0      0      0       0     ...  0.023786  0.022816  0.014563   \n",
       "...   ..     ..     ..     ..      ..     ...       ...       ...       ...   \n",
       "21773  0      0      0      1       0     ...  0.028027  0.014574  0.028027   \n",
       "21774  1      0      0      0       0     ...  0.009346  0.046729  0.018692   \n",
       "21775  0      0      0      0       0     ...  0.023055  0.020775  0.020015   \n",
       "21776  0      0      0      0       0     ...  0.018155  0.017187  0.019608   \n",
       "21777  1      1      1      1       0     ...  0.032949  0.018946  0.023064   \n",
       "\n",
       "            TGG       TGT       TTA       TTC       TTG       TTT  group  \n",
       "0      0.012987  0.051948  0.012987  0.051948  0.025974  0.077922  0      \n",
       "1      0.028322  0.027072  0.018117  0.026239  0.025614  0.059975  1      \n",
       "2      0.017565  0.015968  0.018762  0.014770  0.025150  0.033134  0      \n",
       "3      0.022154  0.022462  0.024000  0.018462  0.020000  0.048308  1      \n",
       "4      0.020874  0.020874  0.026214  0.022330  0.027670  0.055340  0      \n",
       "...         ...       ...       ...       ...       ...       ... ..      \n",
       "21773  0.031390  0.020179  0.010090  0.025785  0.017937  0.038117  1      \n",
       "21774  0.009346  0.037383  0.018692  0.009346  0.028037  0.037383  1      \n",
       "21775  0.021535  0.019762  0.015455  0.021282  0.022802  0.028883  1      \n",
       "21776  0.027354  0.018640  0.013314  0.013798  0.015493  0.019608  1      \n",
       "21777  0.028007  0.030478  0.013180  0.021417  0.020593  0.017298  0      \n",
       "\n",
       "[21778 rows x 76 columns]"
      ]
     },
     "execution_count": 6,
     "metadata": {},
     "output_type": "execute_result"
    }
   ],
   "source": [
    "train_dataset"
   ]
  },
  {
   "cell_type": "markdown",
   "metadata": {},
   "source": [
    "Separating the target (group) and features of the dataset in two separate variables "
   ]
  },
  {
   "cell_type": "code",
   "execution_count": 7,
   "metadata": {},
   "outputs": [],
   "source": [
    "traindata_targets = train_dataset['group']"
   ]
  },
  {
   "cell_type": "code",
   "execution_count": 8,
   "metadata": {},
   "outputs": [],
   "source": [
    "traindata_features = train_dataset.loc[:,train_dataset.columns!='group']"
   ]
  },
  {
   "cell_type": "markdown",
   "metadata": {},
   "source": [
    "## Testing linear svc classifier with one combination of hyperparams"
   ]
  },
  {
   "cell_type": "code",
   "execution_count": null,
   "metadata": {},
   "outputs": [],
   "source": [
    "linear_svc_classifier = svm.SVC(kernel='linear',probability=True)\n",
    "linear_svc_classifier.fit(traindata_features,traindata_targets)"
   ]
  },
  {
   "cell_type": "markdown",
   "metadata": {},
   "source": [
    "### Predicting test_dataset using one svm model"
   ]
  },
  {
   "cell_type": "code",
   "execution_count": 26,
   "metadata": {},
   "outputs": [
    {
     "data": {
      "text/plain": [
       "array([1, 1, 0, ..., 0, 1, 0], dtype=int64)"
      ]
     },
     "execution_count": 26,
     "metadata": {},
     "output_type": "execute_result"
    }
   ],
   "source": [
    "results = linear_svc_classifier.predict(test_dataset)\n",
    "results"
   ]
  },
  {
   "cell_type": "markdown",
   "metadata": {},
   "source": [
    "## Applying cross validation on SVC with different kernels and different choices of C"
   ]
  },
  {
   "cell_type": "code",
   "execution_count": 2,
   "metadata": {},
   "outputs": [
    {
     "data": {
      "text/plain": [
       "<matplotlib.axes._subplots.AxesSubplot at 0x15a45526240>"
      ]
     },
     "execution_count": 2,
     "metadata": {},
     "output_type": "execute_result"
    },
    {
     "data": {
      "image/png": "[encoded data removed]",
      "text/plain": [
       "<Figure size 432x288 with 1 Axes>"
      ]
     },
     "metadata": {},
     "output_type": "display_data"
    }
   ],
   "source": [
    "## Trying example box-plots\n",
    "import seaborn as sns\n",
    "\n",
    "sns.set(style=\"whitegrid\")\n",
    "tips = sns.load_dataset(\"tips\")\n",
    "\n",
    "ax = sns.boxplot(x=tips[\"total_bill\"])\n",
    "ax"
   ]
  },
  {
   "cell_type": "code",
   "execution_count": 9,
   "metadata": {},
   "outputs": [
    {
     "name": "stdout",
     "output_type": "stream",
     "text": [
      "# Tuning hyper-parameters for precision\n",
      "\n"
     ]
    },
    {
     "name": "stderr",
     "output_type": "stream",
     "text": [
      "C:\\Users\\User\\Anaconda3\\lib\\site-packages\\sklearn\\model_selection\\_split.py:1978: FutureWarning: The default value of cv will change from 3 to 5 in version 0.22. Specify it explicitly to silence this warning.\n",
      "  warnings.warn(CV_WARNING, FutureWarning)\n",
      "C:\\Users\\User\\Anaconda3\\lib\\site-packages\\sklearn\\metrics\\classification.py:1437: UndefinedMetricWarning: Precision is ill-defined and being set to 0.0 in labels with no predicted samples.\n",
      "  'precision', 'predicted', average, warn_for)\n",
      "C:\\Users\\User\\Anaconda3\\lib\\site-packages\\sklearn\\metrics\\classification.py:1437: UndefinedMetricWarning: Precision is ill-defined and being set to 0.0 in labels with no predicted samples.\n",
      "  'precision', 'predicted', average, warn_for)\n",
      "C:\\Users\\User\\Anaconda3\\lib\\site-packages\\sklearn\\metrics\\classification.py:1437: UndefinedMetricWarning: Precision is ill-defined and being set to 0.0 in labels with no predicted samples.\n",
      "  'precision', 'predicted', average, warn_for)\n",
      "C:\\Users\\User\\Anaconda3\\lib\\site-packages\\sklearn\\metrics\\classification.py:1437: UndefinedMetricWarning: Precision is ill-defined and being set to 0.0 in labels with no predicted samples.\n",
      "  'precision', 'predicted', average, warn_for)\n",
      "C:\\Users\\User\\Anaconda3\\lib\\site-packages\\sklearn\\metrics\\classification.py:1437: UndefinedMetricWarning: Precision is ill-defined and being set to 0.0 in labels with no predicted samples.\n",
      "  'precision', 'predicted', average, warn_for)\n",
      "C:\\Users\\User\\Anaconda3\\lib\\site-packages\\sklearn\\metrics\\classification.py:1437: UndefinedMetricWarning: Precision is ill-defined and being set to 0.0 in labels with no predicted samples.\n",
      "  'precision', 'predicted', average, warn_for)\n",
      "C:\\Users\\User\\Anaconda3\\lib\\site-packages\\sklearn\\metrics\\classification.py:1437: UndefinedMetricWarning: Precision is ill-defined and being set to 0.0 in labels with no predicted samples.\n",
      "  'precision', 'predicted', average, warn_for)\n",
      "C:\\Users\\User\\Anaconda3\\lib\\site-packages\\sklearn\\metrics\\classification.py:1437: UndefinedMetricWarning: Precision is ill-defined and being set to 0.0 in labels with no predicted samples.\n",
      "  'precision', 'predicted', average, warn_for)\n",
      "C:\\Users\\User\\Anaconda3\\lib\\site-packages\\sklearn\\metrics\\classification.py:1437: UndefinedMetricWarning: Precision is ill-defined and being set to 0.0 in labels with no predicted samples.\n",
      "  'precision', 'predicted', average, warn_for)\n",
      "C:\\Users\\User\\Anaconda3\\lib\\site-packages\\sklearn\\metrics\\classification.py:1437: UndefinedMetricWarning: Precision is ill-defined and being set to 0.0 in labels with no predicted samples.\n",
      "  'precision', 'predicted', average, warn_for)\n",
      "C:\\Users\\User\\Anaconda3\\lib\\site-packages\\sklearn\\metrics\\classification.py:1437: UndefinedMetricWarning: Precision is ill-defined and being set to 0.0 in labels with no predicted samples.\n",
      "  'precision', 'predicted', average, warn_for)\n",
      "C:\\Users\\User\\Anaconda3\\lib\\site-packages\\sklearn\\metrics\\classification.py:1437: UndefinedMetricWarning: Precision is ill-defined and being set to 0.0 in labels with no predicted samples.\n",
      "  'precision', 'predicted', average, warn_for)\n",
      "C:\\Users\\User\\Anaconda3\\lib\\site-packages\\sklearn\\metrics\\classification.py:1437: UndefinedMetricWarning: Precision is ill-defined and being set to 0.0 in labels with no predicted samples.\n",
      "  'precision', 'predicted', average, warn_for)\n",
      "C:\\Users\\User\\Anaconda3\\lib\\site-packages\\sklearn\\metrics\\classification.py:1437: UndefinedMetricWarning: Precision is ill-defined and being set to 0.0 in labels with no predicted samples.\n",
      "  'precision', 'predicted', average, warn_for)\n",
      "C:\\Users\\User\\Anaconda3\\lib\\site-packages\\sklearn\\metrics\\classification.py:1437: UndefinedMetricWarning: Precision is ill-defined and being set to 0.0 in labels with no predicted samples.\n",
      "  'precision', 'predicted', average, warn_for)\n",
      "C:\\Users\\User\\Anaconda3\\lib\\site-packages\\sklearn\\metrics\\classification.py:1437: UndefinedMetricWarning: Precision is ill-defined and being set to 0.0 in labels with no predicted samples.\n",
      "  'precision', 'predicted', average, warn_for)\n",
      "C:\\Users\\User\\Anaconda3\\lib\\site-packages\\sklearn\\metrics\\classification.py:1437: UndefinedMetricWarning: Precision is ill-defined and being set to 0.0 in labels with no predicted samples.\n",
      "  'precision', 'predicted', average, warn_for)\n",
      "C:\\Users\\User\\Anaconda3\\lib\\site-packages\\sklearn\\metrics\\classification.py:1437: UndefinedMetricWarning: Precision is ill-defined and being set to 0.0 in labels with no predicted samples.\n",
      "  'precision', 'predicted', average, warn_for)\n",
      "C:\\Users\\User\\Anaconda3\\lib\\site-packages\\sklearn\\metrics\\classification.py:1437: UndefinedMetricWarning: Precision is ill-defined and being set to 0.0 in labels with no predicted samples.\n",
      "  'precision', 'predicted', average, warn_for)\n",
      "C:\\Users\\User\\Anaconda3\\lib\\site-packages\\sklearn\\metrics\\classification.py:1437: UndefinedMetricWarning: Precision is ill-defined and being set to 0.0 in labels with no predicted samples.\n",
      "  'precision', 'predicted', average, warn_for)\n",
      "C:\\Users\\User\\Anaconda3\\lib\\site-packages\\sklearn\\metrics\\classification.py:1437: UndefinedMetricWarning: Precision is ill-defined and being set to 0.0 in labels with no predicted samples.\n",
      "  'precision', 'predicted', average, warn_for)\n",
      "C:\\Users\\User\\Anaconda3\\lib\\site-packages\\sklearn\\metrics\\classification.py:1437: UndefinedMetricWarning: Precision is ill-defined and being set to 0.0 in labels with no predicted samples.\n",
      "  'precision', 'predicted', average, warn_for)\n",
      "C:\\Users\\User\\Anaconda3\\lib\\site-packages\\sklearn\\metrics\\classification.py:1437: UndefinedMetricWarning: Precision is ill-defined and being set to 0.0 in labels with no predicted samples.\n",
      "  'precision', 'predicted', average, warn_for)\n",
      "C:\\Users\\User\\Anaconda3\\lib\\site-packages\\sklearn\\metrics\\classification.py:1437: UndefinedMetricWarning: Precision is ill-defined and being set to 0.0 in labels with no predicted samples.\n",
      "  'precision', 'predicted', average, warn_for)\n",
      "C:\\Users\\User\\Anaconda3\\lib\\site-packages\\sklearn\\metrics\\classification.py:1437: UndefinedMetricWarning: Precision is ill-defined and being set to 0.0 in labels with no predicted samples.\n",
      "  'precision', 'predicted', average, warn_for)\n",
      "C:\\Users\\User\\Anaconda3\\lib\\site-packages\\sklearn\\metrics\\classification.py:1437: UndefinedMetricWarning: Precision is ill-defined and being set to 0.0 in labels with no predicted samples.\n",
      "  'precision', 'predicted', average, warn_for)\n",
      "C:\\Users\\User\\Anaconda3\\lib\\site-packages\\sklearn\\metrics\\classification.py:1437: UndefinedMetricWarning: Precision is ill-defined and being set to 0.0 in labels with no predicted samples.\n",
      "  'precision', 'predicted', average, warn_for)\n"
     ]
    },
    {
     "name": "stdout",
     "output_type": "stream",
     "text": [
      "Best parameters set found on development set:\n",
      "\n",
      "{'C': 10, 'kernel': 'linear'}\n",
      "\n",
      "Grid scores on development set:\n",
      "\n",
      "0.720 (+/-0.008) for {'C': 1, 'gamma': 0.001, 'kernel': 'rbf'}\n",
      "0.306 (+/-0.000) for {'C': 1, 'gamma': 0.001, 'kernel': 'poly'}\n",
      "0.306 (+/-0.000) for {'C': 1, 'gamma': 0.0001, 'kernel': 'rbf'}\n",
      "0.306 (+/-0.000) for {'C': 1, 'gamma': 0.0001, 'kernel': 'poly'}\n",
      "0.714 (+/-0.020) for {'C': 10, 'gamma': 0.001, 'kernel': 'rbf'}\n",
      "0.306 (+/-0.000) for {'C': 10, 'gamma': 0.001, 'kernel': 'poly'}\n",
      "0.720 (+/-0.007) for {'C': 10, 'gamma': 0.0001, 'kernel': 'rbf'}\n",
      "0.306 (+/-0.000) for {'C': 10, 'gamma': 0.0001, 'kernel': 'poly'}\n",
      "0.712 (+/-0.013) for {'C': 100, 'gamma': 0.001, 'kernel': 'rbf'}\n",
      "0.306 (+/-0.000) for {'C': 100, 'gamma': 0.001, 'kernel': 'poly'}\n",
      "0.714 (+/-0.020) for {'C': 100, 'gamma': 0.0001, 'kernel': 'rbf'}\n",
      "0.306 (+/-0.000) for {'C': 100, 'gamma': 0.0001, 'kernel': 'poly'}\n",
      "0.719 (+/-0.002) for {'C': 1000, 'gamma': 0.001, 'kernel': 'rbf'}\n",
      "0.306 (+/-0.000) for {'C': 1000, 'gamma': 0.001, 'kernel': 'poly'}\n",
      "0.712 (+/-0.013) for {'C': 1000, 'gamma': 0.0001, 'kernel': 'rbf'}\n",
      "0.306 (+/-0.000) for {'C': 1000, 'gamma': 0.0001, 'kernel': 'poly'}\n",
      "0.713 (+/-0.012) for {'C': 1, 'kernel': 'linear'}\n",
      "0.726 (+/-0.005) for {'C': 10, 'kernel': 'linear'}\n",
      "0.724 (+/-0.002) for {'C': 100, 'kernel': 'linear'}\n",
      "0.725 (+/-0.005) for {'C': 1000, 'kernel': 'linear'}\n",
      "\n",
      "\n",
      "# Tuning hyper-parameters for recall\n",
      "\n"
     ]
    },
    {
     "name": "stderr",
     "output_type": "stream",
     "text": [
      "C:\\Users\\User\\Anaconda3\\lib\\site-packages\\sklearn\\model_selection\\_split.py:1978: FutureWarning: The default value of cv will change from 3 to 5 in version 0.22. Specify it explicitly to silence this warning.\n",
      "  warnings.warn(CV_WARNING, FutureWarning)\n"
     ]
    },
    {
     "name": "stdout",
     "output_type": "stream",
     "text": [
      "Best parameters set found on development set:\n",
      "\n",
      "{'C': 1000, 'kernel': 'linear'}\n",
      "\n",
      "Grid scores on development set:\n",
      "\n",
      "0.639 (+/-0.006) for {'C': 1, 'gamma': 0.001, 'kernel': 'rbf'}\n",
      "0.500 (+/-0.000) for {'C': 1, 'gamma': 0.001, 'kernel': 'poly'}\n",
      "0.500 (+/-0.000) for {'C': 1, 'gamma': 0.0001, 'kernel': 'rbf'}\n",
      "0.500 (+/-0.000) for {'C': 1, 'gamma': 0.0001, 'kernel': 'poly'}\n",
      "0.627 (+/-0.008) for {'C': 10, 'gamma': 0.001, 'kernel': 'rbf'}\n",
      "0.500 (+/-0.000) for {'C': 10, 'gamma': 0.001, 'kernel': 'poly'}\n",
      "0.639 (+/-0.006) for {'C': 10, 'gamma': 0.0001, 'kernel': 'rbf'}\n",
      "0.500 (+/-0.000) for {'C': 10, 'gamma': 0.0001, 'kernel': 'poly'}\n",
      "0.628 (+/-0.008) for {'C': 100, 'gamma': 0.001, 'kernel': 'rbf'}\n",
      "0.500 (+/-0.000) for {'C': 100, 'gamma': 0.001, 'kernel': 'poly'}\n",
      "0.627 (+/-0.008) for {'C': 100, 'gamma': 0.0001, 'kernel': 'rbf'}\n",
      "0.500 (+/-0.000) for {'C': 100, 'gamma': 0.0001, 'kernel': 'poly'}\n",
      "0.657 (+/-0.006) for {'C': 1000, 'gamma': 0.001, 'kernel': 'rbf'}\n",
      "0.500 (+/-0.000) for {'C': 1000, 'gamma': 0.001, 'kernel': 'poly'}\n",
      "0.628 (+/-0.009) for {'C': 1000, 'gamma': 0.0001, 'kernel': 'rbf'}\n",
      "0.500 (+/-0.000) for {'C': 1000, 'gamma': 0.0001, 'kernel': 'poly'}\n",
      "0.637 (+/-0.013) for {'C': 1, 'kernel': 'linear'}\n",
      "0.678 (+/-0.012) for {'C': 10, 'kernel': 'linear'}\n",
      "0.681 (+/-0.008) for {'C': 100, 'kernel': 'linear'}\n",
      "0.683 (+/-0.009) for {'C': 1000, 'kernel': 'linear'}\n",
      "\n",
      "\n"
     ]
    }
   ],
   "source": [
    "from sklearn import datasets\n",
    "from sklearn.model_selection import train_test_split\n",
    "from sklearn.model_selection import GridSearchCV\n",
    "from sklearn.metrics import classification_report\n",
    "from sklearn.svm import SVC\n",
    "\n",
    "X = traindata_features\n",
    "y = traindata_targets\n",
    "\n",
    "# Split the dataset in two equal parts\n",
    "X_train, X_test, y_train, y_test = train_test_split(\n",
    "    X, y, test_size=0.5, random_state=0)\n",
    "\n",
    "\n",
    "tuned_parameters = [{'kernel': ['rbf','poly'], 'gamma': [1e-3, 1e-4],\n",
    "                     'C': [1, 10, 100, 1000]},\n",
    "                    {'kernel': ['linear'], 'C': [1, 10, 100, 1000]}]\n",
    "\n",
    "scores = ['precision', 'recall']\n",
    "\n",
    "for score in scores:\n",
    "    print(\"# Tuning hyper-parameters for %s\" % score)\n",
    "    print()\n",
    "\n",
    "    clf = GridSearchCV(\n",
    "        SVC(), tuned_parameters, scoring='%s_macro' % score\n",
    "    )\n",
    "    clf.fit(X_train, y_train)\n",
    "\n",
    "    print(\"Best parameters set found on development set:\")\n",
    "    print()\n",
    "    print(clf.best_params_)\n",
    "    print()\n",
    "    print(\"Grid scores on development set:\")\n",
    "    print()\n",
    "    means = clf.cv_results_['mean_test_score']\n",
    "    stds = clf.cv_results_['std_test_score']\n",
    "    #sns.boxplot(x = means,y = stds)\n",
    "    for mean, std, params in zip(means, stds, clf.cv_results_['params']):\n",
    "        print(\"%0.3f (+/-%0.03f) for %r\"\n",
    "              % (mean, std * 2, params))\n",
    "    print()\n",
    "\n",
    "    #print(\"Detailed classification report:\")\n",
    "    #print()\n",
    "    #print(\"The model is trained on the full development set.\")\n",
    "    #print(\"The scores are computed on the full evaluation set.\")\n",
    "    #print()\n",
    "    #y_true, y_pred = y_test, clf.predict(X_test)\n",
    "    #print(classification_report(y_true, y_pred))\n",
    "    print()\n"
   ]
  },
  {
   "cell_type": "markdown",
   "metadata": {},
   "source": [
    "# Applying KNeighboursClassifier\n",
    "\n",
    "Using GridSearchCV to select hyperparameter n_neighbors,weights, algorithm"
   ]
  },
  {
   "cell_type": "code",
   "execution_count": 9,
   "metadata": {},
   "outputs": [
    {
     "name": "stdout",
     "output_type": "stream",
     "text": [
      "# Tuning hyper-parameters for precision\n",
      "\n"
     ]
    },
    {
     "name": "stderr",
     "output_type": "stream",
     "text": [
      "C:\\Users\\User\\Anaconda3\\lib\\site-packages\\sklearn\\model_selection\\_split.py:1978: FutureWarning: The default value of cv will change from 3 to 5 in version 0.22. Specify it explicitly to silence this warning.\n",
      "  warnings.warn(CV_WARNING, FutureWarning)\n"
     ]
    },
    {
     "name": "stdout",
     "output_type": "stream",
     "text": [
      "Best parameters set found on development set:\n",
      "\n",
      "{'n_neighbors': 8, 'weights': 'uniform'}\n",
      "\n",
      "Grid scores on development set:\n",
      "\n",
      "0.686 (+/-0.011) for {'n_neighbors': 7, 'weights': 'uniform'}\n",
      "0.685 (+/-0.008) for {'n_neighbors': 7, 'weights': 'distance'}\n",
      "0.687 (+/-0.011) for {'n_neighbors': 8, 'weights': 'uniform'}\n",
      "0.686 (+/-0.007) for {'n_neighbors': 8, 'weights': 'distance'}\n",
      "\n"
     ]
    },
    {
     "ename": "ValueError",
     "evalue": "n_neighbors,weights is not a valid parameter",
     "output_type": "error",
     "traceback": [
      "\u001b[1;31m---------------------------------------------------------------------------\u001b[0m",
      "\u001b[1;31mKeyError\u001b[0m                                  Traceback (most recent call last)",
      "\u001b[1;32m~\\Anaconda3\\lib\\site-packages\\sklearn_evaluation\\plot\\grid_search.py\u001b[0m in \u001b[0;36m_grid_search_single\u001b[1;34m(grid_scores, change, subset, kind, ax)\u001b[0m\n\u001b[0;32m     95\u001b[0m     \u001b[1;32mtry\u001b[0m\u001b[1;33m:\u001b[0m\u001b[1;33m\u001b[0m\u001b[1;33m\u001b[0m\u001b[0m\n\u001b[1;32m---> 96\u001b[1;33m         \u001b[0mparams\u001b[0m\u001b[1;33m.\u001b[0m\u001b[0mremove\u001b[0m\u001b[1;33m(\u001b[0m\u001b[0mchange\u001b[0m\u001b[1;33m)\u001b[0m\u001b[1;33m\u001b[0m\u001b[1;33m\u001b[0m\u001b[0m\n\u001b[0m\u001b[0;32m     97\u001b[0m     \u001b[1;32mexcept\u001b[0m \u001b[0mKeyError\u001b[0m\u001b[1;33m:\u001b[0m\u001b[1;33m\u001b[0m\u001b[1;33m\u001b[0m\u001b[0m\n",
      "\u001b[1;31mKeyError\u001b[0m: 'n_neighbors,weights'",
      "\nDuring handling of the above exception, another exception occurred:\n",
      "\u001b[1;31mValueError\u001b[0m                                Traceback (most recent call last)",
      "\u001b[1;32m<ipython-input-9-7df0031b4d0d>\u001b[0m in \u001b[0;36m<module>\u001b[1;34m\u001b[0m\n\u001b[0;32m     43\u001b[0m               % (mean, std * 2, params))\n\u001b[0;32m     44\u001b[0m     \u001b[0mprint\u001b[0m\u001b[1;33m(\u001b[0m\u001b[1;33m)\u001b[0m\u001b[1;33m\u001b[0m\u001b[1;33m\u001b[0m\u001b[0m\n\u001b[1;32m---> 45\u001b[1;33m     \u001b[0mplot\u001b[0m\u001b[1;33m.\u001b[0m\u001b[0mgrid_search\u001b[0m\u001b[1;33m(\u001b[0m\u001b[0mclf\u001b[0m\u001b[1;33m.\u001b[0m\u001b[0mcv_results_\u001b[0m\u001b[1;33m,\u001b[0m \u001b[0mchange\u001b[0m\u001b[1;33m=\u001b[0m\u001b[1;34m'n_neighbors,weights'\u001b[0m\u001b[1;33m)\u001b[0m\u001b[1;33m\u001b[0m\u001b[1;33m\u001b[0m\u001b[0m\n\u001b[0m\u001b[0;32m     46\u001b[0m \u001b[1;33m\u001b[0m\u001b[0m\n\u001b[0;32m     47\u001b[0m     \u001b[1;31m#print(\"Detailed classification report:\")\u001b[0m\u001b[1;33m\u001b[0m\u001b[1;33m\u001b[0m\u001b[1;33m\u001b[0m\u001b[0m\n",
      "\u001b[1;32m~\\Anaconda3\\lib\\site-packages\\sklearn_evaluation\\plot\\grid_search.py\u001b[0m in \u001b[0;36mgrid_search\u001b[1;34m(cv_results_, change, subset, kind, cmap, ax)\u001b[0m\n\u001b[0;32m     75\u001b[0m \u001b[1;33m\u001b[0m\u001b[0m\n\u001b[0;32m     76\u001b[0m     \u001b[1;32mif\u001b[0m \u001b[0misinstance\u001b[0m\u001b[1;33m(\u001b[0m\u001b[0mchange\u001b[0m\u001b[1;33m,\u001b[0m \u001b[0mstring_types\u001b[0m\u001b[1;33m)\u001b[0m \u001b[1;32mor\u001b[0m \u001b[0mlen\u001b[0m\u001b[1;33m(\u001b[0m\u001b[0mchange\u001b[0m\u001b[1;33m)\u001b[0m \u001b[1;33m==\u001b[0m \u001b[1;36m1\u001b[0m\u001b[1;33m:\u001b[0m\u001b[1;33m\u001b[0m\u001b[1;33m\u001b[0m\u001b[0m\n\u001b[1;32m---> 77\u001b[1;33m         \u001b[1;32mreturn\u001b[0m \u001b[0m_grid_search_single\u001b[0m\u001b[1;33m(\u001b[0m\u001b[0mgrid_scores\u001b[0m\u001b[1;33m,\u001b[0m \u001b[0mchange\u001b[0m\u001b[1;33m,\u001b[0m \u001b[0msubset\u001b[0m\u001b[1;33m,\u001b[0m \u001b[0mkind\u001b[0m\u001b[1;33m,\u001b[0m \u001b[0max\u001b[0m\u001b[1;33m)\u001b[0m\u001b[1;33m\u001b[0m\u001b[1;33m\u001b[0m\u001b[0m\n\u001b[0m\u001b[0;32m     78\u001b[0m     \u001b[1;32melif\u001b[0m \u001b[0mlen\u001b[0m\u001b[1;33m(\u001b[0m\u001b[0mchange\u001b[0m\u001b[1;33m)\u001b[0m \u001b[1;33m==\u001b[0m \u001b[1;36m2\u001b[0m\u001b[1;33m:\u001b[0m\u001b[1;33m\u001b[0m\u001b[1;33m\u001b[0m\u001b[0m\n\u001b[0;32m     79\u001b[0m         \u001b[1;32mreturn\u001b[0m \u001b[0m_grid_search_double\u001b[0m\u001b[1;33m(\u001b[0m\u001b[0mgrid_scores\u001b[0m\u001b[1;33m,\u001b[0m \u001b[0mchange\u001b[0m\u001b[1;33m,\u001b[0m \u001b[0msubset\u001b[0m\u001b[1;33m,\u001b[0m \u001b[0mcmap\u001b[0m\u001b[1;33m,\u001b[0m \u001b[0max\u001b[0m\u001b[1;33m)\u001b[0m\u001b[1;33m\u001b[0m\u001b[1;33m\u001b[0m\u001b[0m\n",
      "\u001b[1;32m~\\Anaconda3\\lib\\site-packages\\sklearn_evaluation\\plot\\grid_search.py\u001b[0m in \u001b[0;36m_grid_search_single\u001b[1;34m(grid_scores, change, subset, kind, ax)\u001b[0m\n\u001b[0;32m     96\u001b[0m         \u001b[0mparams\u001b[0m\u001b[1;33m.\u001b[0m\u001b[0mremove\u001b[0m\u001b[1;33m(\u001b[0m\u001b[0mchange\u001b[0m\u001b[1;33m)\u001b[0m\u001b[1;33m\u001b[0m\u001b[1;33m\u001b[0m\u001b[0m\n\u001b[0;32m     97\u001b[0m     \u001b[1;32mexcept\u001b[0m \u001b[0mKeyError\u001b[0m\u001b[1;33m:\u001b[0m\u001b[1;33m\u001b[0m\u001b[1;33m\u001b[0m\u001b[0m\n\u001b[1;32m---> 98\u001b[1;33m         \u001b[1;32mraise\u001b[0m \u001b[0mValueError\u001b[0m\u001b[1;33m(\u001b[0m\u001b[1;34m'{} is not a valid parameter'\u001b[0m\u001b[1;33m.\u001b[0m\u001b[0mformat\u001b[0m\u001b[1;33m(\u001b[0m\u001b[0mchange\u001b[0m\u001b[1;33m)\u001b[0m\u001b[1;33m)\u001b[0m\u001b[1;33m\u001b[0m\u001b[1;33m\u001b[0m\u001b[0m\n\u001b[0m\u001b[0;32m     99\u001b[0m \u001b[1;33m\u001b[0m\u001b[0m\n\u001b[0;32m    100\u001b[0m     \u001b[1;31m# now need need to filter out the grid_scores that the user\u001b[0m\u001b[1;33m\u001b[0m\u001b[1;33m\u001b[0m\u001b[1;33m\u001b[0m\u001b[0m\n",
      "\u001b[1;31mValueError\u001b[0m: n_neighbors,weights is not a valid parameter"
     ]
    },
    {
     "data": {
      "image/png": "[encoded data removed]",
      "text/plain": [
       "<Figure size 432x288 with 1 Axes>"
      ]
     },
     "metadata": {
      "needs_background": "light"
     },
     "output_type": "display_data"
    }
   ],
   "source": [
    "from sklearn import datasets\n",
    "from sklearn.model_selection import train_test_split\n",
    "from sklearn.model_selection import GridSearchCV\n",
    "from sklearn.metrics import classification_report\n",
    "from sklearn.neighbors import KNeighborsClassifier\n",
    "\n",
    "X = traindata_features\n",
    "y = traindata_targets\n",
    "\n",
    "# Split the dataset in two equal parts\n",
    "X_train, X_test, y_train, y_test = train_test_split(\n",
    "    X, y, test_size=0.5, random_state=0)\n",
    "\n",
    "\n",
    "#tuned_parameters = [{'n_neighbors': [3,4,5,6,7], 'weights': ['uniform', 'distance'],\n",
    "#                     'algorithm': ['ball_tree','kd_tree','brute']}]\n",
    "tuned_parameters = [{'n_neighbors': [7,8], 'weights': ['uniform', 'distance']}]\n",
    "\n",
    "scores = ['precision', 'recall']\n",
    "\n",
    "for score in scores:\n",
    "    print(\"# Tuning hyper-parameters for %s\" % score)\n",
    "    print()\n",
    "    \n",
    "    \n",
    "\n",
    "    clf = GridSearchCV(\n",
    "        KNeighborsClassifier(), tuned_parameters, scoring='%s_macro' % score\n",
    "    )\n",
    "    clf.fit(X_train, y_train)\n",
    "\n",
    "    print(\"Best parameters set found on development set:\")\n",
    "    print()\n",
    "    print(clf.best_params_)\n",
    "    print()\n",
    "    print(\"Grid scores on development set:\")\n",
    "    print()\n",
    "    means = clf.cv_results_['mean_test_score']\n",
    "    stds = clf.cv_results_['std_test_score']\n",
    "    #sns.boxplot(x = means,y = stds)\n",
    "    for mean, std, params in zip(means, stds, clf.cv_results_['params']):\n",
    "        print(\"%0.3f (+/-%0.03f) for %r\"\n",
    "              % (mean, std * 2, params))\n",
    "    print()\n",
    "    plot.grid_search(clf.cv_results_, change='n_neighbors,weights')\n",
    "\n",
    "    #print(\"Detailed classification report:\")\n",
    "    #print()\n",
    "    #print(\"The model is trained on the full development set.\")\n",
    "    #print(\"The scores are computed on the full evaluation set.\")\n",
    "    #print()\n",
    "    #y_true, y_pred = y_test, clf.predict(X_test)\n",
    "    #print(classification_report(y_true, y_pred))\n",
    "    print()\n"
   ]
  },
  {
   "cell_type": "markdown",
   "metadata": {},
   "source": [
    "# Applying RandomForestClassifier\n",
    "\n",
    "Using GridSearchCV to select below hyper parameters n_extimators, max_depth and max_features \n",
    "\n"
   ]
  },
  {
   "cell_type": "code",
   "execution_count": 7,
   "metadata": {},
   "outputs": [
    {
     "name": "stdout",
     "output_type": "stream",
     "text": [
      "# Tuning hyper-parameters for precision\n",
      "\n"
     ]
    },
    {
     "name": "stderr",
     "output_type": "stream",
     "text": [
      "C:\\Users\\User\\Anaconda3\\lib\\site-packages\\sklearn\\model_selection\\_split.py:1978: FutureWarning: The default value of cv will change from 3 to 5 in version 0.22. Specify it explicitly to silence this warning.\n",
      "  warnings.warn(CV_WARNING, FutureWarning)\n"
     ]
    },
    {
     "name": "stdout",
     "output_type": "stream",
     "text": [
      "Best parameters set found on development set:\n",
      "\n",
      "{'max_depth': None, 'max_features': 'sqrt', 'n_estimators': 200}\n",
      "\n",
      "Grid scores on development set:\n",
      "\n",
      "0.709 (+/-0.011) for {'max_depth': None, 'max_features': 'sqrt', 'n_estimators': 100}\n",
      "0.707 (+/-0.008) for {'max_depth': None, 'max_features': 'sqrt', 'n_estimators': 150}\n",
      "0.714 (+/-0.006) for {'max_depth': None, 'max_features': 'sqrt', 'n_estimators': 200}\n",
      "0.706 (+/-0.004) for {'max_depth': None, 'max_features': 'log2', 'n_estimators': 100}\n",
      "0.709 (+/-0.008) for {'max_depth': None, 'max_features': 'log2', 'n_estimators': 150}\n",
      "0.710 (+/-0.004) for {'max_depth': None, 'max_features': 'log2', 'n_estimators': 200}\n",
      "0.709 (+/-0.010) for {'max_depth': None, 'max_features': 15, 'n_estimators': 100}\n",
      "0.713 (+/-0.007) for {'max_depth': None, 'max_features': 15, 'n_estimators': 150}\n",
      "0.712 (+/-0.010) for {'max_depth': None, 'max_features': 15, 'n_estimators': 200}\n",
      "0.708 (+/-0.012) for {'max_depth': 100, 'max_features': 'sqrt', 'n_estimators': 100}\n",
      "0.706 (+/-0.009) for {'max_depth': 100, 'max_features': 'sqrt', 'n_estimators': 150}\n",
      "0.711 (+/-0.003) for {'max_depth': 100, 'max_features': 'sqrt', 'n_estimators': 200}\n",
      "0.707 (+/-0.006) for {'max_depth': 100, 'max_features': 'log2', 'n_estimators': 100}\n",
      "0.709 (+/-0.002) for {'max_depth': 100, 'max_features': 'log2', 'n_estimators': 150}\n",
      "0.708 (+/-0.003) for {'max_depth': 100, 'max_features': 'log2', 'n_estimators': 200}\n",
      "0.711 (+/-0.012) for {'max_depth': 100, 'max_features': 15, 'n_estimators': 100}\n",
      "0.711 (+/-0.010) for {'max_depth': 100, 'max_features': 15, 'n_estimators': 150}\n",
      "0.712 (+/-0.007) for {'max_depth': 100, 'max_features': 15, 'n_estimators': 200}\n",
      "0.707 (+/-0.005) for {'max_depth': 50, 'max_features': 'sqrt', 'n_estimators': 100}\n",
      "0.712 (+/-0.006) for {'max_depth': 50, 'max_features': 'sqrt', 'n_estimators': 150}\n",
      "0.707 (+/-0.009) for {'max_depth': 50, 'max_features': 'sqrt', 'n_estimators': 200}\n",
      "0.706 (+/-0.002) for {'max_depth': 50, 'max_features': 'log2', 'n_estimators': 100}\n",
      "0.709 (+/-0.006) for {'max_depth': 50, 'max_features': 'log2', 'n_estimators': 150}\n",
      "0.708 (+/-0.006) for {'max_depth': 50, 'max_features': 'log2', 'n_estimators': 200}\n",
      "0.708 (+/-0.006) for {'max_depth': 50, 'max_features': 15, 'n_estimators': 100}\n",
      "0.707 (+/-0.007) for {'max_depth': 50, 'max_features': 15, 'n_estimators': 150}\n",
      "0.712 (+/-0.001) for {'max_depth': 50, 'max_features': 15, 'n_estimators': 200}\n",
      "\n",
      "\n",
      "# Tuning hyper-parameters for recall\n",
      "\n"
     ]
    },
    {
     "name": "stderr",
     "output_type": "stream",
     "text": [
      "C:\\Users\\User\\Anaconda3\\lib\\site-packages\\sklearn\\model_selection\\_split.py:1978: FutureWarning: The default value of cv will change from 3 to 5 in version 0.22. Specify it explicitly to silence this warning.\n",
      "  warnings.warn(CV_WARNING, FutureWarning)\n"
     ]
    },
    {
     "name": "stdout",
     "output_type": "stream",
     "text": [
      "Best parameters set found on development set:\n",
      "\n",
      "{'max_depth': 100, 'max_features': 15, 'n_estimators': 200}\n",
      "\n",
      "Grid scores on development set:\n",
      "\n",
      "0.696 (+/-0.011) for {'max_depth': None, 'max_features': 'sqrt', 'n_estimators': 100}\n",
      "0.696 (+/-0.011) for {'max_depth': None, 'max_features': 'sqrt', 'n_estimators': 150}\n",
      "0.694 (+/-0.007) for {'max_depth': None, 'max_features': 'sqrt', 'n_estimators': 200}\n",
      "0.691 (+/-0.013) for {'max_depth': None, 'max_features': 'log2', 'n_estimators': 100}\n",
      "0.688 (+/-0.006) for {'max_depth': None, 'max_features': 'log2', 'n_estimators': 150}\n",
      "0.691 (+/-0.005) for {'max_depth': None, 'max_features': 'log2', 'n_estimators': 200}\n",
      "0.694 (+/-0.016) for {'max_depth': None, 'max_features': 15, 'n_estimators': 100}\n",
      "0.696 (+/-0.004) for {'max_depth': None, 'max_features': 15, 'n_estimators': 150}\n",
      "0.697 (+/-0.008) for {'max_depth': None, 'max_features': 15, 'n_estimators': 200}\n",
      "0.694 (+/-0.014) for {'max_depth': 100, 'max_features': 'sqrt', 'n_estimators': 100}\n",
      "0.696 (+/-0.004) for {'max_depth': 100, 'max_features': 'sqrt', 'n_estimators': 150}\n",
      "0.696 (+/-0.007) for {'max_depth': 100, 'max_features': 'sqrt', 'n_estimators': 200}\n",
      "0.689 (+/-0.018) for {'max_depth': 100, 'max_features': 'log2', 'n_estimators': 100}\n",
      "0.692 (+/-0.011) for {'max_depth': 100, 'max_features': 'log2', 'n_estimators': 150}\n",
      "0.691 (+/-0.008) for {'max_depth': 100, 'max_features': 'log2', 'n_estimators': 200}\n",
      "0.693 (+/-0.012) for {'max_depth': 100, 'max_features': 15, 'n_estimators': 100}\n",
      "0.696 (+/-0.006) for {'max_depth': 100, 'max_features': 15, 'n_estimators': 150}\n",
      "0.698 (+/-0.011) for {'max_depth': 100, 'max_features': 15, 'n_estimators': 200}\n",
      "0.693 (+/-0.009) for {'max_depth': 50, 'max_features': 'sqrt', 'n_estimators': 100}\n",
      "0.696 (+/-0.005) for {'max_depth': 50, 'max_features': 'sqrt', 'n_estimators': 150}\n",
      "0.691 (+/-0.009) for {'max_depth': 50, 'max_features': 'sqrt', 'n_estimators': 200}\n",
      "0.690 (+/-0.004) for {'max_depth': 50, 'max_features': 'log2', 'n_estimators': 100}\n",
      "0.690 (+/-0.009) for {'max_depth': 50, 'max_features': 'log2', 'n_estimators': 150}\n",
      "0.692 (+/-0.007) for {'max_depth': 50, 'max_features': 'log2', 'n_estimators': 200}\n",
      "0.693 (+/-0.010) for {'max_depth': 50, 'max_features': 15, 'n_estimators': 100}\n",
      "0.697 (+/-0.007) for {'max_depth': 50, 'max_features': 15, 'n_estimators': 150}\n",
      "0.696 (+/-0.009) for {'max_depth': 50, 'max_features': 15, 'n_estimators': 200}\n",
      "\n",
      "\n"
     ]
    }
   ],
   "source": [
    "from sklearn import datasets\n",
    "from sklearn.model_selection import train_test_split\n",
    "from sklearn.model_selection import GridSearchCV\n",
    "from sklearn.metrics import classification_report\n",
    "\n",
    "X = traindata_features\n",
    "y = traindata_targets\n",
    "\n",
    "# Split the dataset in two equal parts\n",
    "X_train, X_test, y_train, y_test = train_test_split(\n",
    "    X, y, test_size=0.5, random_state=0)\n",
    "\n",
    "\n",
    "tuned_parameters = [{'n_estimators': [100,150,200], 'max_depth': [None,100,50],\n",
    "                     'max_features': ['sqrt','log2',15]}]\n",
    "\n",
    "scores = ['precision', 'recall']\n",
    "\n",
    "for score in scores:\n",
    "    print(\"# Tuning hyper-parameters for %s\" % score)\n",
    "    print()\n",
    "    \n",
    "    \n",
    "\n",
    "    clf = GridSearchCV(\n",
    "        RandomForestClassifier(), tuned_parameters, scoring='%s_macro' % score\n",
    "    )\n",
    "    clf.fit(X_train, y_train)\n",
    "\n",
    "    print(\"Best parameters set found on development set:\")\n",
    "    print()\n",
    "    print(clf.best_params_)\n",
    "    print()\n",
    "    print(\"Grid scores on development set:\")\n",
    "    print()\n",
    "    means = clf.cv_results_['mean_test_score']\n",
    "    stds = clf.cv_results_['std_test_score']\n",
    "    #sns.boxplot(x = means,y = stds)\n",
    "    for mean, std, params in zip(means, stds, clf.cv_results_['params']):\n",
    "        print(\"%0.3f (+/-%0.03f) for %r\"\n",
    "              % (mean, std * 2, params))\n",
    "    print()\n",
    "\n",
    "    #print(\"Detailed classification report:\")\n",
    "    #print()\n",
    "    #print(\"The model is trained on the full development set.\")\n",
    "    #print(\"The scores are computed on the full evaluation set.\")\n",
    "    #print()\n",
    "    #y_true, y_pred = y_test, clf.predict(X_test)\n",
    "    #print(classification_report(y_true, y_pred))\n",
    "    print()"
   ]
  },
  {
   "cell_type": "markdown",
   "metadata": {},
   "source": [
    "## Generating Precision-Recall Curve (KNN Classifier)\n",
    "Constructing precision recall curve and calculating AUPRC score for the KNN classifier using k =8, weight = uniform, algorithm = ball_tree"
   ]
  },
  {
   "cell_type": "code",
   "execution_count": 21,
   "metadata": {},
   "outputs": [
    {
     "data": {
      "text/plain": [
       "<matplotlib.axes._subplots.AxesSubplot at 0x212813092b0>"
      ]
     },
     "execution_count": 21,
     "metadata": {},
     "output_type": "execute_result"
    },
    {
     "data": {
      "image/png": "[encoded data removed]",
      "text/plain": [
       "<Figure size 432x288 with 1 Axes>"
      ]
     },
     "metadata": {
      "needs_background": "light"
     },
     "output_type": "display_data"
    }
   ],
   "source": [
    "X = traindata_features\n",
    "y = traindata_targets\n",
    "\n",
    "#print(X.columns)\n",
    "X_train, X_test, y_train, y_test = train_test_split(X, y, test_size=0.3)\n",
    "#print(type(y_train))\n",
    "\n",
    "est = KNeighborsClassifier(n_neighbors=8,weights='uniform',algorithm='ball_tree')\n",
    "est.fit(X_train, y_train)\n",
    "y_pred = est.predict(X_test)\n",
    "\n",
    "\n",
    "y_score = est.predict_proba(X_test)\n",
    "y_true = y_test\n",
    "\n",
    "plot.precision_recall(y_true, y_score)"
   ]
  },
  {
   "cell_type": "markdown",
   "metadata": {},
   "source": [
    "## Generating Precision-Recall Curve (SVC Classifier)\n",
    "Constructing precision recall curve and calculating AUPRC score for the SVC (Support Vector Classifier) classifier using C= 1000, kernel = linear"
   ]
  },
  {
   "cell_type": "code",
   "execution_count": null,
   "metadata": {},
   "outputs": [],
   "source": [
    "X = traindata_features\n",
    "y = traindata_targets\n",
    "\n",
    "#print(X.columns)\n",
    "X_train, X_test, y_train, y_test = train_test_split(X, y, test_size=0.3)\n",
    "#print(type(y_train))\n",
    "\n",
    "est = SVC(C=1000,kernel='linear',probability=True)\n",
    "est.fit(X_train, y_train)\n",
    "y_pred = est.predict(X_test)\n",
    "\n",
    "\n",
    "y_score = est.predict_proba(X_test)\n",
    "y_true = y_test\n",
    "\n",
    "plot.precision_recall(y_true, y_score)\n"
   ]
  },
  {
   "cell_type": "markdown",
   "metadata": {},
   "source": [
    "## Generating Precision-Recall Curve (Random Forest Classifier)\n",
    "Constructing precision recall curve and calculating AUPRC score for the SVC (Support Vector Classifier) classifier using max_depth = None, max_features= 'sqrt', n_estimators= 200"
   ]
  },
  {
   "cell_type": "code",
   "execution_count": 1,
   "metadata": {},
   "outputs": [
    {
     "ename": "NameError",
     "evalue": "name 'traindata_features' is not defined",
     "output_type": "error",
     "traceback": [
      "\u001b[1;31m---------------------------------------------------------------------------\u001b[0m",
      "\u001b[1;31mNameError\u001b[0m                                 Traceback (most recent call last)",
      "\u001b[1;32m<ipython-input-1-e26d45228bd7>\u001b[0m in \u001b[0;36m<module>\u001b[1;34m\u001b[0m\n\u001b[1;32m----> 1\u001b[1;33m \u001b[0mX\u001b[0m \u001b[1;33m=\u001b[0m \u001b[0mtraindata_features\u001b[0m\u001b[1;33m\u001b[0m\u001b[1;33m\u001b[0m\u001b[0m\n\u001b[0m\u001b[0;32m      2\u001b[0m \u001b[0my\u001b[0m \u001b[1;33m=\u001b[0m \u001b[0mtraindata_targets\u001b[0m\u001b[1;33m\u001b[0m\u001b[1;33m\u001b[0m\u001b[0m\n\u001b[0;32m      3\u001b[0m \u001b[1;33m\u001b[0m\u001b[0m\n\u001b[0;32m      4\u001b[0m \u001b[0mX_train\u001b[0m\u001b[1;33m,\u001b[0m \u001b[0mX_test\u001b[0m\u001b[1;33m,\u001b[0m \u001b[0my_train\u001b[0m\u001b[1;33m,\u001b[0m \u001b[0my_test\u001b[0m \u001b[1;33m=\u001b[0m \u001b[0mtrain_test_split\u001b[0m\u001b[1;33m(\u001b[0m\u001b[0mX\u001b[0m\u001b[1;33m,\u001b[0m \u001b[0my\u001b[0m\u001b[1;33m,\u001b[0m \u001b[0mtest_size\u001b[0m\u001b[1;33m=\u001b[0m\u001b[1;36m0.3\u001b[0m\u001b[1;33m)\u001b[0m\u001b[1;33m\u001b[0m\u001b[1;33m\u001b[0m\u001b[0m\n\u001b[0;32m      5\u001b[0m \u001b[1;33m\u001b[0m\u001b[0m\n",
      "\u001b[1;31mNameError\u001b[0m: name 'traindata_features' is not defined"
     ]
    }
   ],
   "source": [
    "X = traindata_features\n",
    "y = traindata_targets\n",
    "\n",
    "X_train, X_test, y_train, y_test = train_test_split(X, y, test_size=0.3)\n",
    "\n",
    "est = RandomForestClassifier(max_depth=None,max_features='sqrt',n_estimators=200)\n",
    "est.fit(X_train, y_train)\n",
    "y_pred = est.predict(X_test)\n",
    "\n",
    "\n",
    "y_score = est.predict_proba(X_test)\n",
    "y_true = y_test\n",
    "\n",
    "plot.precision_recall(y_true, y_score)"
   ]
  },
  {
   "cell_type": "code",
   "execution_count": null,
   "metadata": {},
   "outputs": [],
   "source": []
  }
 ],
 "metadata": {
  "kernelspec": {
   "display_name": "Python 3.7.1 64-bit ('base': conda)",
   "language": "python",
   "name": "python37164bitbasecondab51752a147d247b5a86b90baf7a787af"
  },
  "language_info": {
   "codemirror_mode": {
    "name": "ipython",
    "version": 3
   },
   "file_extension": ".py",
   "mimetype": "text/x-python",
   "name": "python",
   "nbconvert_exporter": "python",
   "pygments_lexer": "ipython3",
   "version": "3.7.1"
  }
 },
 "nbformat": 4,
 "nbformat_minor": 2
}
